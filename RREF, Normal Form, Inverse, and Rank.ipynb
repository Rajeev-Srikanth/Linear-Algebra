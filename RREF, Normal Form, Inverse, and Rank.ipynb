{
 "cells": [
  {
   "cell_type": "code",
   "execution_count": 2,
   "metadata": {},
   "outputs": [],
   "source": [
    "from numpy import *\n",
    "from sympy import *"
   ]
  },
  {
   "cell_type": "code",
   "execution_count": 3,
   "metadata": {},
   "outputs": [],
   "source": [
    "#Function to order a matrix by increasing number of zeroes before leading entry by row\n",
    "def orderzero(X):\n",
    "    r=(shape(X))[0]\n",
    "    c=(shape(X))[1]\n",
    "    N=[]\n",
    "    #Creating a corresponding array for number of zeroes before leading entry in each row\n",
    "    for i in range(0,r):\n",
    "        n=0\n",
    "        for j in range(0,c):\n",
    "            if(X[i,j]==0):\n",
    "                n=n+1\n",
    "            if(X[i,j]!=0 or j==c-1):\n",
    "                N.append(n)\n",
    "                break\n",
    "    #Sorting the array, and simultaneously the matrix, in increasing order of number of\n",
    "    #zeros before leading entry rowwise\n",
    "    for i in range(0,r):\n",
    "        for j in range(0, r - i - 1):\n",
    "            if N[j] > N[j + 1]:\n",
    "                temp = N[j]\n",
    "                N[j] = N[j+1]\n",
    "                N[j+1] = temp\n",
    "                X=X.elementary_row_op(op='n<->m', row1=j, row2=j+1)\n",
    "    return(X)"
   ]
  },
  {
   "cell_type": "code",
   "execution_count": 4,
   "metadata": {},
   "outputs": [],
   "source": [
    "#Function to reduce any matrix into row reduced echelon form\n",
    "def rreform(X):\n",
    "    r=(shape(X))[0]\n",
    "    c=(shape(X))[1]\n",
    "    X=orderzero(X)\n",
    "    #u is the number of complete zero columns in the matrix\n",
    "    u=0\n",
    "    try:\n",
    "        for i in range(0,c):\n",
    "            #Flag variable initially set to 0, changes to 1 if atleast 1 non-zero element is found in the ith column\n",
    "            flag=0\n",
    "            if(X[i-u,i]!=0):\n",
    "                flag=1\n",
    "            #If the first \"focus element\" of ith column is zero, its row is swapped with the row of the first non-zero\n",
    "            #element below it in the ith column\n",
    "            else:\n",
    "                for x in range(i-u+1,r):\n",
    "                    if(X[x,i]!=0):\n",
    "                        X=X.elementary_row_op(op='n<->m', row1=i-u, row2=x)\n",
    "                        flag=1\n",
    "                        break\n",
    "            #If the \"focus element\" of the ith column is zero, there is no row operations done,\n",
    "            #and the \"focus element\" shifts one to the right in the matrix\n",
    "            if(flag==0):\n",
    "                u=u+1\n",
    "            #If the \"focus element\" of the ith column is non-zero, all elements below it are converted to 0 using row operations,\n",
    "            #and the \"focus element\" shifts one to the right and one down in the matrix\n",
    "            else:\n",
    "                #The \"focus element\" is changed to 1, to avoid any divide by zero errors\n",
    "                X=X.elementary_row_op(op='n->kn', k=1/X[i-u,i], row1=i-u)\n",
    "                #All elements below the \"focus element\" are converted to 0 using row operations\n",
    "                for j in range(i-u+1,r):\n",
    "                    X=X.elementary_row_op(op='n->n+km', k=-(X[j,i]), row1=j, row2=i-u)\n",
    "    #In cases where the number of columns are greater than the number of rows in the matrix, the process is terminated when a\n",
    "    #index error is encountered as at this point the matrix is already in row reduced echelon form\n",
    "    except IndexError:\n",
    "        exit\n",
    "    return(X)\n",
    "    "
   ]
  },
  {
   "cell_type": "code",
   "execution_count": 5,
   "metadata": {},
   "outputs": [],
   "source": [
    "#Function to find the normal form of a matrix\n",
    "def normalform(X):\n",
    "    r=(shape(X))[0]\n",
    "    c=(shape(X))[1]\n",
    "    X=rreform(X)\n",
    "    #Finding the leading entry of the ith row, and converting all elements to its\n",
    "    #right to 0 using column operations\n",
    "    for i in range(0,r):\n",
    "        for j in range(0,c):\n",
    "            if(X[i,j]!=0):\n",
    "                for k in range(j+1,c):\n",
    "                    X=X.elementary_col_op(op='n->n+km',k=-(X[i,k]),col1=k, col2=j)\n",
    "    #For cases in which the identity submatrix of the normal form isn't in the top left,\n",
    "    #finding all the fully zero columns in the normal form from right to left and\n",
    "    #shifting it to the right most column possible such that all full zero columns are\n",
    "    #stacked ont he right, and the identity submatrix is on the top left in the normal form\n",
    "    for i in range(c-1,-1,-1):\n",
    "        flag=0\n",
    "        for j in range(0,r):\n",
    "            if(X[j,i]!=0):\n",
    "                flag=1\n",
    "        if(flag==0):\n",
    "            for k in range(i+1,c):\n",
    "                X=X.elementary_col_op(op='n<->m', col1=k, col2=k-1)\n",
    "    return(X)"
   ]
  },
  {
   "cell_type": "code",
   "execution_count": 6,
   "metadata": {},
   "outputs": [],
   "source": [
    "#Function to find rank of a matrix\n",
    "def matrixrank(X):\n",
    "    rank=0\n",
    "    r=(shape(X))[0]\n",
    "    c=(shape(X))[1]\n",
    "    X=normalform(X)\n",
    "    #Finding number of rows which have a (1) element\n",
    "    for i in range(0,r):\n",
    "        for j in range(0,c):\n",
    "            if(X[i,j]!=0):\n",
    "                rank=rank+1\n",
    "                break\n",
    "    return(rank)"
   ]
  },
  {
   "cell_type": "code",
   "execution_count": 7,
   "metadata": {},
   "outputs": [],
   "source": [
    "#Function to find inverse of a square matrix using row operations\n",
    "def inverseusingops(X):\n",
    "    r=(shape(X))[0]\n",
    "    c=(shape(X))[1]\n",
    "    #Check whether the matrix is a square matrix and whether it is invertible\n",
    "    if((r==c) and (det(X)!=0)):\n",
    "        n=r\n",
    "        #Creating an identity matrix of same order as the input matrix\n",
    "        I=eye(r)\n",
    "        #Simultaneously applying row operations to both matrices, such that the input matrix is converted to an identity matrix\n",
    "        #The identity matrix will convert to the inverse of the input matrix\n",
    "        for i in range(0,n):\n",
    "            #If a diagonal element is zero, swapping it with a row below it with a non-zero element in the same column\n",
    "            if(X[i,i]==0):\n",
    "                for x in range(i+1,r):\n",
    "                    if(X[x,i]!=0):\n",
    "                        I=I.elementary_row_op(op='n<->m', row1=i, row2=x)\n",
    "                        X=X.elementary_row_op(op='n<->m', row1=i, row2=x)\n",
    "                        break\n",
    "            #Converting the diagonal element to 1\n",
    "            I=I.elementary_row_op(op='n->kn', k=1/X[i,i], row1=i)\n",
    "            X=X.elementary_row_op(op='n->kn', k=1/X[i,i], row1=i)\n",
    "            for j in range(0,n):\n",
    "                #Converting all remaining elements in the column to zero\n",
    "                if(i!=j):\n",
    "                    I=I.elementary_row_op(op='n->n+km', k=-X[j,i], row1=j, row2=i)\n",
    "                    X=X.elementary_row_op(op='n->n+km', k=-X[j,i], row1=j, row2=i)\n",
    "        return(I)\n",
    "    else:\n",
    "        return(\"NOT INVERTIBLE\")"
   ]
  },
  {
   "cell_type": "code",
   "execution_count": 8,
   "metadata": {},
   "outputs": [],
   "source": [
    "input=Matrix(mat(input(\"Enter matrix\")))"
   ]
  },
  {
   "cell_type": "code",
   "execution_count": 9,
   "metadata": {},
   "outputs": [],
   "source": [
    "ordered=orderzero(input)\n",
    "rrechform=rreform(input)\n",
    "normal=normalform(input)\n",
    "rank=matrixrank(input)\n",
    "inv=inverseusingops(input)"
   ]
  },
  {
   "cell_type": "code",
   "execution_count": 10,
   "metadata": {},
   "outputs": [
    {
     "data": {
      "text/plain": [
       "'Input matrix is: '"
      ]
     },
     "metadata": {},
     "output_type": "display_data"
    },
    {
     "data": {
      "text/latex": [
       "$\\displaystyle \\left[\\begin{matrix}0 & 5 & 4 & 3\\\\8 & 6 & 4 & 4\\\\6 & 3 & 56 & 8\\\\0 & 4 & 6 & 7\\end{matrix}\\right]$"
      ],
      "text/plain": [
       "Matrix([\n",
       "[0, 5,  4, 3],\n",
       "[8, 6,  4, 4],\n",
       "[6, 3, 56, 8],\n",
       "[0, 4,  6, 7]])"
      ]
     },
     "metadata": {},
     "output_type": "display_data"
    },
    {
     "data": {
      "text/plain": [
       "'Row reduced echelon form of the matrix is: '"
      ]
     },
     "metadata": {},
     "output_type": "display_data"
    },
    {
     "data": {
      "text/latex": [
       "$\\displaystyle \\left[\\begin{matrix}1 & \\frac{3}{4} & \\frac{1}{2} & \\frac{1}{2}\\\\0 & 1 & - \\frac{106}{3} & - \\frac{10}{3}\\\\0 & 0 & 1 & \\frac{59}{542}\\\\0 & 0 & 0 & 1\\end{matrix}\\right]$"
      ],
      "text/plain": [
       "Matrix([\n",
       "[1, 3/4,    1/2,    1/2],\n",
       "[0,   1, -106/3,  -10/3],\n",
       "[0,   0,      1, 59/542],\n",
       "[0,   0,      0,      1]])"
      ]
     },
     "metadata": {},
     "output_type": "display_data"
    },
    {
     "data": {
      "text/plain": [
       "'Normal form of the matrix is: '"
      ]
     },
     "metadata": {},
     "output_type": "display_data"
    },
    {
     "data": {
      "text/latex": [
       "$\\displaystyle \\left[\\begin{matrix}1 & 0 & 0 & 0\\\\0 & 1 & 0 & 0\\\\0 & 0 & 1 & 0\\\\0 & 0 & 0 & 1\\end{matrix}\\right]$"
      ],
      "text/plain": [
       "Matrix([\n",
       "[1, 0, 0, 0],\n",
       "[0, 1, 0, 0],\n",
       "[0, 0, 1, 0],\n",
       "[0, 0, 0, 1]])"
      ]
     },
     "metadata": {},
     "output_type": "display_data"
    },
    {
     "data": {
      "text/plain": [
       "'Rank of matrix is'"
      ]
     },
     "metadata": {},
     "output_type": "display_data"
    },
    {
     "data": {
      "text/plain": [
       "4"
      ]
     },
     "metadata": {},
     "output_type": "display_data"
    },
    {
     "data": {
      "text/plain": [
       "'Inverse of matrix is'"
      ]
     },
     "metadata": {},
     "output_type": "display_data"
    },
    {
     "data": {
      "text/latex": [
       "$\\displaystyle \\left[\\begin{matrix}- \\frac{107}{776} & \\frac{191}{1552} & \\frac{1}{388} & - \\frac{11}{776}\\\\\\frac{341}{1164} & \\frac{5}{776} & - \\frac{5}{582} & - \\frac{139}{1164}\\\\\\frac{61}{2328} & - \\frac{23}{1552} & \\frac{23}{1164} & - \\frac{59}{2328}\\\\- \\frac{221}{1164} & \\frac{7}{776} & - \\frac{7}{582} & \\frac{271}{1164}\\end{matrix}\\right]$"
      ],
      "text/plain": [
       "Matrix([\n",
       "[ -107/776, 191/1552,   1/388,   -11/776],\n",
       "[ 341/1164,    5/776,  -5/582, -139/1164],\n",
       "[  61/2328, -23/1552, 23/1164,  -59/2328],\n",
       "[-221/1164,    7/776,  -7/582,  271/1164]])"
      ]
     },
     "metadata": {},
     "output_type": "display_data"
    }
   ],
   "source": [
    "display(\"Input matrix is: \",input)\n",
    "display(\"Row reduced echelon form of the matrix is: \",rrechform)\n",
    "display(\"Normal form of the matrix is: \",normal)\n",
    "display(\"Rank of matrix is\",rank)\n",
    "display(\"Inverse of matrix is\",inv)"
   ]
  }
 ],
 "metadata": {
  "kernelspec": {
   "display_name": "Python 3.10.4 64-bit",
   "language": "python",
   "name": "python3"
  },
  "language_info": {
   "codemirror_mode": {
    "name": "ipython",
    "version": 3
   },
   "file_extension": ".py",
   "mimetype": "text/x-python",
   "name": "python",
   "nbconvert_exporter": "python",
   "pygments_lexer": "ipython3",
   "version": "3.10.4"
  },
  "orig_nbformat": 4,
  "vscode": {
   "interpreter": {
    "hash": "75169b71cfe8f7d6e7348003d0991dce382b2cf5363f54be701209dc85529f58"
   }
  }
 },
 "nbformat": 4,
 "nbformat_minor": 2
}
