{
 "cells": [
  {
   "cell_type": "code",
   "execution_count": 83,
   "metadata": {},
   "outputs": [],
   "source": [
    "from numpy import *\n",
    "from sympy import *"
   ]
  },
  {
   "cell_type": "code",
   "execution_count": 84,
   "metadata": {},
   "outputs": [],
   "source": [
    "#Function to order a matrix by incresing number of zeroes before leading entry by row\n",
    "def orderzero(X):\n",
    "    r=(shape(X))[0]\n",
    "    c=(shape(X))[1]\n",
    "    N=[]\n",
    "    #Creating a corresponding array for number of zeroes before leading entry in each row\n",
    "    for i in range(0,r):\n",
    "        n=0\n",
    "        for j in range(0,c):\n",
    "            if(X[i,j]==0):\n",
    "                n=n+1\n",
    "            if(X[i,j]!=0 or j==c-1):\n",
    "                N.append(n)\n",
    "                break\n",
    "    #Sorting the array, and simultaneously the matrix, in increasing order of number of\n",
    "    #zeros before leading entry rowwise\n",
    "    for i in range(0,r):\n",
    "        for j in range(0, r - i - 1):\n",
    "            if N[j] > N[j + 1]:\n",
    "                temp = N[j]\n",
    "                N[j] = N[j+1]\n",
    "                N[j+1] = temp\n",
    "                X=X.elementary_row_op(op='n<->m', row1=j, row2=j+1)\n",
    "    return(X)"
   ]
  },
  {
   "cell_type": "code",
   "execution_count": 85,
   "metadata": {},
   "outputs": [],
   "source": [
    "#Function to reduce any matrix into row reduced echelon form\n",
    "def rreform(X):\n",
    "    r=(shape(X))[0]\n",
    "    c=(shape(X))[1]\n",
    "    #u is the number of complete zero columns in the matrix\n",
    "    u=0\n",
    "    try:\n",
    "        for i in range(0,c):\n",
    "            #Flag variable initially set to 0, changes to 1 if atleast 1 non-zero element is found in the ith column\n",
    "            flag=0\n",
    "            if(X[i-u,i]!=0):\n",
    "                flag=1\n",
    "            #If the first \"focus element\" of ith column is zero, its row is swapped with the row of the first non-zero\n",
    "            #element below it in the ith column\n",
    "            else:\n",
    "                for x in range(i-u+1,r):\n",
    "                    if(X[x,i]!=0):\n",
    "                        X=X.elementary_row_op(op='n<->m', row1=i-u, row2=x)\n",
    "                        flag=1\n",
    "                        break\n",
    "            #If the \"focus element\" of the ith column is zero, there is no row operations done,\n",
    "            #and the \"focus element\" shifts one to the right in the matrix\n",
    "            if(flag==0):\n",
    "                u=u+1\n",
    "            #If the \"focus element\" of the ith column is non-zero, all elements below it are converted to 0 using row operations,\n",
    "            #and the \"focus element\" shifts one to the right and one down in the matrix\n",
    "            else:\n",
    "                #The \"focus element\" is changed to 1, to avoid any divide by zero errors\n",
    "                X=X.elementary_row_op(op='n->kn', k=1/X[i-u,i], row1=i-u)\n",
    "                #All elements below the \"focus element\" are converted to 0 using row operations\n",
    "                for j in range(i-u+1,r):\n",
    "                    X=X.elementary_row_op(op='n->n+km', k=-(X[j,i]), row1=j, row2=i-u)\n",
    "    #In cases where the number of columns are greater than the number of rows in the matrix, the process is terminated when a\n",
    "    #index error is encountered as at this point the matrix is already in row reduced echelon form\n",
    "    except IndexError:\n",
    "        exit\n",
    "    return(X)"
   ]
  },
  {
   "cell_type": "code",
   "execution_count": 86,
   "metadata": {},
   "outputs": [],
   "source": [
    "#Function to tranform a matrix whixh is in row reduced echelon form to normal form\n",
    "def rreftonorm(X):\n",
    "    r=(shape(X))[0]\n",
    "    c=(shape(X))[1]\n",
    "    #Finding the leading entry of the ith row, and converting all elements to its\n",
    "    #right to 0 using column operations\n",
    "    for i in range(0,r):\n",
    "        for j in range(0,c):\n",
    "            if(X[i,j]!=0):\n",
    "                for k in range(j+1,c):\n",
    "                    X=X.elementary_col_op(op='n->n+km',k=-(X[i,k]),col1=k, col2=j)\n",
    "    #For cases in which the identity submatrix of the normal form isn't in the top left,\n",
    "    #finding all the fully zero columns in the normal form from right to left and\n",
    "    #shifting it to the right most column possible such that all full zero columns are\n",
    "    #stacked ont he right, and the identity submatrix is on the top left in the normal form\n",
    "    for i in range(c-1,-1,-1):\n",
    "        flag=0\n",
    "        for j in range(0,r):\n",
    "            if(X[j,i]!=0):\n",
    "                flag=1\n",
    "        if(flag==0):\n",
    "            for k in range(i+1,c):\n",
    "                X=X.elementary_col_op(op='n<->m', col1=k, col2=k-1)\n",
    "    return(X)"
   ]
  },
  {
   "cell_type": "code",
   "execution_count": 87,
   "metadata": {},
   "outputs": [],
   "source": [
    "input=mat(input(\"Enter matrix\"))\n",
    "input=Matrix(input)"
   ]
  },
  {
   "cell_type": "code",
   "execution_count": 90,
   "metadata": {},
   "outputs": [],
   "source": [
    "ordered=orderzero(input)\n",
    "rrechform=rreform(ordered)\n",
    "normalform=rreftonorm(rrechform)"
   ]
  },
  {
   "cell_type": "code",
   "execution_count": 91,
   "metadata": {},
   "outputs": [
    {
     "data": {
      "text/plain": [
       "'Input matrix is: '"
      ]
     },
     "metadata": {},
     "output_type": "display_data"
    },
    {
     "data": {
      "text/latex": [
       "$\\displaystyle \\left[\\begin{matrix}0 & 5 & 3 & 5\\\\0 & 6 & 3 & 5\\\\0 & 0 & 0 & 4\\\\0 & 0 & 3 & 6\\end{matrix}\\right]$"
      ],
      "text/plain": [
       "Matrix([\n",
       "[0, 5, 3, 5],\n",
       "[0, 6, 3, 5],\n",
       "[0, 0, 0, 4],\n",
       "[0, 0, 3, 6]])"
      ]
     },
     "metadata": {},
     "output_type": "display_data"
    },
    {
     "data": {
      "text/plain": [
       "'Row reduced echelon form of the matrix is: '"
      ]
     },
     "metadata": {},
     "output_type": "display_data"
    },
    {
     "data": {
      "text/latex": [
       "$\\displaystyle \\left[\\begin{matrix}0 & 1 & \\frac{3}{5} & 1\\\\0 & 0 & 1 & \\frac{5}{3}\\\\0 & 0 & 0 & 1\\\\0 & 0 & 0 & 0\\end{matrix}\\right]$"
      ],
      "text/plain": [
       "Matrix([\n",
       "[0, 1, 3/5,   1],\n",
       "[0, 0,   1, 5/3],\n",
       "[0, 0,   0,   1],\n",
       "[0, 0,   0,   0]])"
      ]
     },
     "metadata": {},
     "output_type": "display_data"
    },
    {
     "data": {
      "text/plain": [
       "'Normal form of the matrix is: '"
      ]
     },
     "metadata": {},
     "output_type": "display_data"
    },
    {
     "data": {
      "text/latex": [
       "$\\displaystyle \\left[\\begin{matrix}1 & 0 & 0 & 0\\\\0 & 1 & 0 & 0\\\\0 & 0 & 1 & 0\\\\0 & 0 & 0 & 0\\end{matrix}\\right]$"
      ],
      "text/plain": [
       "Matrix([\n",
       "[1, 0, 0, 0],\n",
       "[0, 1, 0, 0],\n",
       "[0, 0, 1, 0],\n",
       "[0, 0, 0, 0]])"
      ]
     },
     "metadata": {},
     "output_type": "display_data"
    }
   ],
   "source": [
    "display(\"Input matrix is: \",input)\n",
    "display(\"Row reduced echelon form of the matrix is: \",rrechform)\n",
    "display(\"Normal form of the matrix is: \",normalform)"
   ]
  }
 ],
 "metadata": {
  "kernelspec": {
   "display_name": "Python 3.10.4 64-bit",
   "language": "python",
   "name": "python3"
  },
  "language_info": {
   "codemirror_mode": {
    "name": "ipython",
    "version": 3
   },
   "file_extension": ".py",
   "mimetype": "text/x-python",
   "name": "python",
   "nbconvert_exporter": "python",
   "pygments_lexer": "ipython3",
   "version": "3.10.4"
  },
  "orig_nbformat": 4,
  "vscode": {
   "interpreter": {
    "hash": "75169b71cfe8f7d6e7348003d0991dce382b2cf5363f54be701209dc85529f58"
   }
  }
 },
 "nbformat": 4,
 "nbformat_minor": 2
}
