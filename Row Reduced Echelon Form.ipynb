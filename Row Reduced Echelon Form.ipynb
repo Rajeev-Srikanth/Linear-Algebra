{
 "cells": [
  {
   "cell_type": "code",
   "execution_count": 1,
   "metadata": {},
   "outputs": [],
   "source": [
    "from numpy import *\n",
    "from sympy import *"
   ]
  },
  {
   "cell_type": "code",
   "execution_count": 6,
   "metadata": {},
   "outputs": [],
   "source": [
    "A=mat(input(\"Enter matrix\"))\n",
    "A=Matrix(A)\n",
    "r=(shape(A))[0]\n",
    "c=(shape(A))[1]\n",
    "store=A\n",
    "u=0\n",
    "try:\n",
    "    for i in range(0,c):\n",
    "        flag=0\n",
    "        if(A[i-u,i]!=0):\n",
    "            flag=1\n",
    "        else:\n",
    "            for x in range(i-u+1,r):\n",
    "                if(A[x,i]!=0):\n",
    "                    A=A.elementary_row_op(op='n<->m', row1=i-u, row2=x)\n",
    "                    flag=1\n",
    "                    break\n",
    "        if(flag==0):\n",
    "            u=u+1\n",
    "        else:\n",
    "            A=A.elementary_row_op(op='n->kn', k=1/A[i-u,i], row1=i-u)\n",
    "            for j in range(i-u+1,r):\n",
    "                A=A.elementary_row_op(op='n->n+km', k=-(A[j,i]), row1=j, row2=i-u)\n",
    "except IndexError:\n",
    "    exit"
   ]
  },
  {
   "cell_type": "code",
   "execution_count": 7,
   "metadata": {},
   "outputs": [
    {
     "data": {
      "text/latex": [
       "$\\displaystyle \\left[\\begin{matrix}1 & 2 & 3 & 4\\\\0 & 0 & 5 & 8\\\\0 & 0 & 1 & 3\\\\0 & 0 & 0 & 1\\end{matrix}\\right]$"
      ],
      "text/plain": [
       "Matrix([\n",
       "[1, 2, 3, 4],\n",
       "[0, 0, 5, 8],\n",
       "[0, 0, 1, 3],\n",
       "[0, 0, 0, 1]])"
      ]
     },
     "metadata": {},
     "output_type": "display_data"
    },
    {
     "data": {
      "text/latex": [
       "$\\displaystyle \\left[\\begin{matrix}1 & 2 & 3 & 4\\\\0 & 0 & 1 & \\frac{8}{5}\\\\0 & 0 & 0 & 1\\\\0 & 0 & 0 & 0\\end{matrix}\\right]$"
      ],
      "text/plain": [
       "Matrix([\n",
       "[1, 2, 3,   4],\n",
       "[0, 0, 1, 8/5],\n",
       "[0, 0, 0,   1],\n",
       "[0, 0, 0,   0]])"
      ]
     },
     "metadata": {},
     "output_type": "display_data"
    }
   ],
   "source": [
    "display(store)\n",
    "display(A)"
   ]
  }
 ],
 "metadata": {
  "kernelspec": {
   "display_name": "Python 3.10.4 64-bit",
   "language": "python",
   "name": "python3"
  },
  "language_info": {
   "codemirror_mode": {
    "name": "ipython",
    "version": 3
   },
   "file_extension": ".py",
   "mimetype": "text/x-python",
   "name": "python",
   "nbconvert_exporter": "python",
   "pygments_lexer": "ipython3",
   "version": "3.10.4"
  },
  "orig_nbformat": 4,
  "vscode": {
   "interpreter": {
    "hash": "75169b71cfe8f7d6e7348003d0991dce382b2cf5363f54be701209dc85529f58"
   }
  }
 },
 "nbformat": 4,
 "nbformat_minor": 2
}
